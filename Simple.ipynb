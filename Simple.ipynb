{
  "cells": [
    {
      "cell_type": "markdown",
      "metadata": {
        "id": "view-in-github",
        "colab_type": "text"
      },
      "source": [
        "<a href=\"https://colab.research.google.com/github/ramsrigouthamg/Supertranslate.ai/blob/main/Burn_Subtitles_Into_Video/Burn_Subtitles_to_video_using_Moviepy.ipynb\" target=\"_parent\"><img src=\"https://colab.research.google.com/assets/colab-badge.svg\" alt=\"Open In Colab\"/></a>"
      ]
    },
    {
      "cell_type": "markdown",
      "metadata": {
        "id": "RFpEHORi7QUP"
      },
      "source": [
        "## How to permanently add or burn subtitles to a video using Moviepy\n",
        "\n",
        "For files (mp4 and srt) used in this repository check: https://github.com/ramsrigouthamg/Supertranslate.ai\n",
        "\n",
        "Author: [Ramsri Goutham](https://twitter.com/ramsri_goutham) "
      ]
    },
    {
      "cell_type": "code",
      "execution_count": null,
      "metadata": {
        "id": "YCqlPS17SAUD"
      },
      "outputs": [],
      "source": [
        "!pip install moviepy==2.0.0.dev2\n",
        "!pip install imageio==2.25.1"
      ]
    },
    {
      "cell_type": "code",
      "execution_count": null,
      "metadata": {
        "id": "YEbRDjOplNQB"
      },
      "outputs": [],
      "source": [
        "!apt install imagemagick"
      ]
    },
    {
      "cell_type": "code",
      "execution_count": null,
      "metadata": {
        "id": "Qq1-cjkilSif"
      },
      "outputs": [],
      "source": [
        "!cat /etc/ImageMagick-6/policy.xml | sed 's/none/read,write/g'> /etc/ImageMagick-6/policy.xml"
      ]
    },
    {
      "cell_type": "code",
      "execution_count": null,
      "metadata": {
        "id": "eb9WDxIrnMMf"
      },
      "outputs": [],
      "source": [
        "!pip install pysrt==1.1.2"
      ]
    },
    {
      "cell_type": "code",
      "execution_count": null,
      "metadata": {
        "id": "YT1CT_S2lhPH"
      },
      "outputs": [],
      "source": [
        "from google.colab import drive\n",
        "drive.mount('/content/gdrive/', force_remount=True)"
      ]
    },
    {
      "cell_type": "code",
      "execution_count": null,
      "metadata": {
        "id": "vRmOf6hDmVMJ"
      },
      "outputs": [],
      "source": [
        "# Place files in this path or modify the paths to point to where the files are\n",
        "srtfilename = \"/content/gdrive/My Drive/Burn_Subtitles_Into_Video/AI_SaaS.srt\"\n",
        "mp4filename = \"/content/gdrive/My Drive/Burn_Subtitles_Into_Video/AI_SaaS.mp4\""
      ]
    },
    {
      "cell_type": "code",
      "execution_count": null,
      "metadata": {
        "id": "ECMvgOr-oI3O"
      },
      "outputs": [],
      "source": [
        "import sys\n",
        "import pysrt\n",
        "from moviepy.editor import VideoFileClip, TextClip, CompositeVideoClip\n",
        "\n",
        "\n",
        "def time_to_seconds(time_obj):\n",
        "    return time_obj.hours * 3600 + time_obj.minutes * 60 + time_obj.seconds + time_obj.milliseconds / 1000\n",
        "\n",
        "\n",
        "def create_subtitle_clips(subtitles, videosize,fontsize=24, font='Arial', color='yellow', debug = False):\n",
        "    subtitle_clips = []\n",
        "\n",
        "    for subtitle in subtitles:\n",
        "        start_time = time_to_seconds(subtitle.start)\n",
        "        end_time = time_to_seconds(subtitle.end)\n",
        "        duration = end_time - start_time\n",
        "\n",
        "        video_width, video_height = videosize\n",
        "        \n",
        "        text_clip = TextClip(subtitle.text, fontsize=fontsize, font=font, color=color, bg_color = 'black',size=(video_width*3/4, None), method='caption').set_start(start_time).set_duration(duration)\n",
        "        subtitle_x_position = 'center'\n",
        "        subtitle_y_position = video_height* 4 / 5 \n",
        "\n",
        "        text_position = (subtitle_x_position, subtitle_y_position)                    \n",
        "        subtitle_clips.append(text_clip.set_position(text_position))\n",
        "\n",
        "    return subtitle_clips\n",
        "\n",
        "\n"
      ]
    },
    {
      "cell_type": "code",
      "execution_count": null,
      "metadata": {
        "id": "72-6GAUOpKSz"
      },
      "outputs": [],
      "source": [
        "\n",
        "# Load video and SRT file\n",
        "video = VideoFileClip(mp4filename)\n",
        "subtitles = pysrt.open(srtfilename)\n",
        "\n",
        "begin,end= mp4filename.split(\".mp4\")\n",
        "output_video_file = begin+'_subtitled'+\".mp4\"\n",
        "\n",
        "print (\"Output file name: \",output_video_file)\n",
        "\n",
        "# Create subtitle clips\n",
        "subtitle_clips = create_subtitle_clips(subtitles,video.size)\n",
        "\n",
        "# Add subtitles to the video\n",
        "final_video = CompositeVideoClip([video] + subtitle_clips)\n",
        "\n",
        "# Write output video file\n",
        "final_video.write_videofile(output_video_file)\n"
      ]
    },
    {
      "cell_type": "code",
      "execution_count": null,
      "metadata": {
        "colab": {
          "background_save": true
        },
        "id": "WHX0PF1fDig2"
      },
      "outputs": [],
      "source": [
        "from IPython.display import HTML\n",
        "from base64 import b64encode\n",
        "mp4 = open(output_video_file,'rb').read()\n",
        "data_url = \"data:video/mp4;base64,\" + b64encode(mp4).decode()\n",
        "HTML(\"\"\"\n",
        "<video width=400 controls>\n",
        "      <source src=\"%s\" type=\"video/mp4\">\n",
        "</video>\n",
        "\"\"\" % data_url)"
      ]
    }
  ],
  "metadata": {
    "colab": {
      "provenance": [],
      "authorship_tag": "ABX9TyND01ynTze2b6I0hLH7YVBW",
      "include_colab_link": true
    },
    "kernelspec": {
      "display_name": "Python 3",
      "name": "python3"
    },
    "language_info": {
      "name": "python"
    }
  },
  "nbformat": 4,
  "nbformat_minor": 0
}