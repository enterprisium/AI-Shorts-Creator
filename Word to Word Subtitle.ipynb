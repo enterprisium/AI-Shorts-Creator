{
  "nbformat": 4,
  "nbformat_minor": 0,
  "metadata": {
    "colab": {
      "provenance": [],
      "authorship_tag": "ABX9TyP/aVBN1ISIi1rx3OI3j5AE",
      "include_colab_link": true
    },
    "kernelspec": {
      "name": "python3",
      "display_name": "Python 3"
    },
    "language_info": {
      "name": "python"
    }
  },
  "cells": [
    {
      "cell_type": "markdown",
      "metadata": {
        "id": "view-in-github",
        "colab_type": "text"
      },
      "source": [
        "<a href=\"https://colab.research.google.com/github/ramsrigouthamg/Supertranslate.ai/blob/main/Deepgram_Whisper_Transcription/Whisper_Word_Level_Subtitle_Timestamps_using_Deepgram.ipynb\" target=\"_parent\"><img src=\"https://colab.research.google.com/assets/colab-badge.svg\" alt=\"Open In Colab\"/></a>"
      ]
    },
    {
      "cell_type": "markdown",
      "source": [
        "Deepgram API Reference: https://developers.deepgram.com/documentation/guides/deepgram-whisper-cloud/\n",
        "\n",
        "Deepgram Website to signup for API key: https://deepgram.com/\n",
        "\n",
        "Code and files for this notebook: https://github.com/ramsrigouthamg/Supertranslate.ai/tree/main/Deepgram_Whisper_Transcription\n",
        "\n",
        "Author: [Ramsri Goutham](https://twitter.com/ramsri_goutham) "
      ],
      "metadata": {
        "id": "gCJ7hRYCqabe"
      }
    },
    {
      "cell_type": "code",
      "execution_count": null,
      "metadata": {
        "id": "ioUiT-DOp8ZW"
      },
      "outputs": [],
      "source": [
        "from getpass import getpass\n",
        "deepgramapiKey = getpass('Enter your deepgram API key: ')"
      ]
    },
    {
      "cell_type": "code",
      "source": [
        "# shows execution time of each cell\n",
        "!pip install --quiet ipython-autotime\n",
        "%load_ext autotime"
      ],
      "metadata": {
        "id": "PEvRlLI1rMQL"
      },
      "execution_count": null,
      "outputs": []
    },
    {
      "cell_type": "code",
      "source": [
        "import requests\n",
        "def getDeepgramTranscription(p_url):\n",
        "    # Use this to get subtitles in English\n",
        "    url = \"https://api.deepgram.com/v1/listen?model=whisper-large&language=en&punctuate=true&diarize=true&smart_format=true\"\n",
        "\n",
        "    # Use this to get subtitles in the same language as the audio/video\n",
        "    # url = \"https://api.deepgram.com/v1/listen?model=whisper-large&detect_language=true\"\n",
        "\n",
        "    payload = {\n",
        "        \"url\": p_url\n",
        "    }\n",
        "\n",
        "    headers = {\n",
        "        \"Authorization\": 'Token ' + deepgramapiKey,\n",
        "        \"content-type\": \"application/json\"\n",
        "    }\n",
        "\n",
        "    response = requests.request(\"POST\", url, headers=headers, json=payload)\n",
        "    output = response.json()\n",
        "    return output"
      ],
      "metadata": {
        "id": "NzkjNku3r9Mn"
      },
      "execution_count": null,
      "outputs": []
    },
    {
      "cell_type": "markdown",
      "source": [
        "## Audio in English and Subtitles in English"
      ],
      "metadata": {
        "id": "Q-iQLK6os5Vj"
      }
    },
    {
      "cell_type": "code",
      "source": [
        "mp3url = \"https://github.com/ramsrigouthamg/Supertranslate.ai/raw/main/Deepgram_Whisper_Transcription/ps1_English.mp3\"\n",
        "output = getDeepgramTranscription(mp3url)\n",
        "print (output)"
      ],
      "metadata": {
        "id": "BWvtpCNtsi5o"
      },
      "execution_count": null,
      "outputs": []
    },
    {
      "cell_type": "code",
      "source": [
        "from pprint import pprint\n",
        "pprint (output['results']['channels'][0]['alternatives'][0]['transcript'])"
      ],
      "metadata": {
        "id": "hZfH3jnCtm1q"
      },
      "execution_count": null,
      "outputs": []
    },
    {
      "cell_type": "code",
      "source": [
        "from pprint import pprint\n",
        "pprint (output['results']['channels'][0]['alternatives'][0]['words'])"
      ],
      "metadata": {
        "id": "4TcSPxz4tyXX"
      },
      "execution_count": null,
      "outputs": []
    },
    {
      "cell_type": "code",
      "source": [
        "def convert_to_srt(data, output_filename):\n",
        "    def format_time(seconds):\n",
        "        # Convert seconds to hours, minutes, seconds, milliseconds format\n",
        "        hours, remainder = divmod(seconds, 3600)\n",
        "        minutes, remainder = divmod(remainder, 60)\n",
        "        seconds, milliseconds = divmod(remainder, 1)\n",
        "        return f\"{int(hours):02d}:{int(minutes):02d}:{int(seconds):02d},{int(milliseconds*1000):03d}\"\n",
        "\n",
        "    with open(output_filename, 'w') as f:\n",
        "        for i, entry in enumerate(data, start=1):\n",
        "            start_time = format_time(entry['start'])\n",
        "            end_time = format_time(entry['end'])\n",
        "            subtitle_text = entry['punctuated_word']\n",
        "            f.write(f\"{i}\\n\")\n",
        "            f.write(f\"{start_time} --> {end_time}\\n\")\n",
        "            f.write(f\"{subtitle_text}\\n\\n\")"
      ],
      "metadata": {
        "id": "dYcC_mugujQd"
      },
      "execution_count": null,
      "outputs": []
    },
    {
      "cell_type": "code",
      "source": [
        "import os\n",
        "subtitle_data = output['results']['channels'][0]['alternatives'][0]['words']\n",
        "\n",
        "# Extract the filename from the URL\n",
        "filename = os.path.basename(mp3url)\n",
        "name, extension = os.path.splitext(filename)\n",
        "output_filename = name + \".srt\"\n",
        "\n",
        "# write a subtitle (.srt) file with word-level timestamps\n",
        "convert_to_srt(subtitle_data,output_filename)"
      ],
      "metadata": {
        "id": "4EPrbIQFukdH"
      },
      "execution_count": null,
      "outputs": []
    },
    {
      "cell_type": "code",
      "source": [
        "from google.colab import drive\n",
        "drive.mount('/content/gdrive/', force_remount=True)"
      ],
      "metadata": {
        "id": "909pX-v7vNz5"
      },
      "execution_count": null,
      "outputs": []
    },
    {
      "cell_type": "code",
      "source": [
        "# Place files in this path or modify the paths to point to where the files are\n",
        "srtfilename = output_filename\n",
        "mp4video = \"/content/gdrive/My Drive/Deepgram_Whisper_Transcription/ps1_English.mp4\""
      ],
      "metadata": {
        "id": "MS4b7cwBvlU8"
      },
      "execution_count": null,
      "outputs": []
    },
    {
      "cell_type": "code",
      "source": [
        "import shutil\n",
        "target = os.path.basename(mp4video)\n",
        "print (target)\n",
        "shutil.copy(mp4video, target)"
      ],
      "metadata": {
        "id": "dAkUrkB_x27D"
      },
      "execution_count": null,
      "outputs": []
    },
    {
      "cell_type": "code",
      "source": [
        "output_video = target.replace(\".mp4\",\"_wordlevel_subtitles.mp4\")\n",
        "print (target)\n",
        "print (srtfilename)\n",
        "print (output_video)"
      ],
      "metadata": {
        "id": "2RO-HQS8yXaB"
      },
      "execution_count": null,
      "outputs": []
    },
    {
      "cell_type": "code",
      "source": [
        "# This will take 2-3 mins to run\n",
        "os.system(f\"ffmpeg -i {target} -vf subtitles={srtfilename} {output_video}\")"
      ],
      "metadata": {
        "id": "2DlxAD2ovvSN"
      },
      "execution_count": null,
      "outputs": []
    },
    {
      "cell_type": "code",
      "source": [
        "parent_directory = os.path.dirname(mp4video)\n",
        "print (parent_directory)\n",
        "copy_path = os.path.join(parent_directory,output_video)\n",
        "print (copy_path)\n",
        "shutil.copy(output_video, copy_path)"
      ],
      "metadata": {
        "id": "PodMSbSUz171"
      },
      "execution_count": null,
      "outputs": []
    },
    {
      "cell_type": "markdown",
      "source": [
        "Download and view the File generated locally"
      ],
      "metadata": {
        "id": "jVmOky61zuJ-"
      }
    }
  ]
}